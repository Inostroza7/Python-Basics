{
  "cells": [
    {
      "cell_type": "markdown",
      "metadata": {
        "id": "view-in-github",
        "colab_type": "text"
      },
      "source": [
        "<a href=\"https://colab.research.google.com/github/Inostroza7/Python-Basics/blob/main/Python_Basics_Template.ipynb\" target=\"_parent\"><img src=\"https://colab.research.google.com/assets/colab-badge.svg\" alt=\"Open In Colab\"/></a>"
      ]
    },
    {
      "cell_type": "markdown",
      "id": "2233955e",
      "metadata": {
        "id": "2233955e"
      },
      "source": [
        "# Python Basics 🐍"
      ]
    },
    {
      "cell_type": "markdown",
      "id": "9ebdd867",
      "metadata": {
        "id": "9ebdd867"
      },
      "source": [
        "\n",
        "Python es un lenguaje de programación de alto nivel, interpretado y de propósito general.\n",
        "Con su diseño sencillo y fácil de leer, se ha convertido en uno de los lenguajes de programación más populares del mundo 🌎.\n",
        "Su versatilidad lo hace perfecto para la programación web, científica, análisis de datos, inteligencia artificial y mucho más.\n",
        "Aprender Python es una habilidad esencial en el mundo moderno de la tecnología 💻.\n",
        "\n",
        "Este repositorio está diseñado para enseñar los conceptos básicos de Python a quienes estén interesados en aprender este versátil lenguaje de programación.\n",
        "Da el primer paso hacia tu futuro en la programación con este curso interactivo y emocionante 🚀.\n"
      ]
    },
    {
      "cell_type": "markdown",
      "id": "dc21ee01",
      "metadata": {
        "id": "dc21ee01"
      },
      "source": [
        "\n",
        "## Contenido 📚\n",
        "1. [Hola Mundo](#Hola-Mundo) 🖨️\n",
        "2. [Variables](#Variables) 🔢\n",
        "3. [Operadores](#Operadores) ➕➖✖️➗\n",
        "4. [Strings](#Strings) 🧵\n",
        "5. [Listas](#Listas) 📋\n",
        "6. [Tuplas](#Tuplas) 🧩\n",
        "7. [Diccionarios](#Diccionarios) 📖\n",
        "8. [Condicionales](#Condicionales) 🔀\n",
        "9. [Bucles/Loops](#Bucles/Loops) 🔁\n",
        "10. [Funciones](#Funciones) 🛠️\n",
        "11. [Módulos](#Módulos) 📦\n"
      ]
    },
    {
      "cell_type": "markdown",
      "id": "69181bfc",
      "metadata": {
        "id": "69181bfc"
      },
      "source": [
        "\n",
        "## Cómo utilizar este repositorio 💻\n",
        "\n",
        "Puedes clonar este repositorio o descargarlo como ZIP para acceder a todos los archivos y recursos.\n",
        "Se recomienda seguir las lecciones en orden para una mejor comprensión 🗂️.\n"
      ]
    },
    {
      "cell_type": "markdown",
      "id": "0eff463b",
      "metadata": {
        "id": "0eff463b"
      },
      "source": [
        "\n",
        "## Contribuir 👨‍💻\n",
        "\n",
        "Si deseas contribuir con este proyecto, siéntete libre de hacer un pull request o abrir un issue. ¡Tu colaboración es bienvenida! 🤝\n"
      ]
    },
    {
      "cell_type": "markdown",
      "id": "31f9aff5",
      "metadata": {
        "id": "31f9aff5"
      },
      "source": [
        "## Hola Mundo 🖨️\n",
        " Ejemplo de cómo imprimir 'Hola Mundo' en Python."
      ]
    },
    {
      "cell_type": "code",
      "execution_count": null,
      "id": "2110a14d",
      "metadata": {
        "id": "2110a14d"
      },
      "outputs": [],
      "source": [
        "x = 3+4\n",
        "print()"
      ]
    },
    {
      "cell_type": "markdown",
      "id": "cc4421aa",
      "metadata": {
        "id": "cc4421aa"
      },
      "source": [
        "## Variables 🔢\n",
        " Introducción a variables en Python."
      ]
    },
    {
      "cell_type": "code",
      "execution_count": null,
      "id": "5ad58d6a",
      "metadata": {
        "id": "5ad58d6a"
      },
      "outputs": [],
      "source": [
        "mi_primeraVariable =\n",
        "print(mi_primeraVariable)"
      ]
    },
    {
      "cell_type": "markdown",
      "id": "4b75ad8b",
      "metadata": {
        "id": "4b75ad8b"
      },
      "source": [
        "Probando nombres de Variables"
      ]
    },
    {
      "cell_type": "code",
      "execution_count": null,
      "metadata": {
        "id": "2ANMkUoUy-WE"
      },
      "outputs": [],
      "source": [
        "x = 'Mi primera Variable'"
      ],
      "id": "2ANMkUoUy-WE"
    },
    {
      "cell_type": "markdown",
      "id": "2715cc28",
      "metadata": {
        "id": "2715cc28"
      },
      "source": [
        "Verifica el tipo de tu variable"
      ]
    },
    {
      "cell_type": "code",
      "execution_count": null,
      "id": "e7bf73ab",
      "metadata": {
        "id": "e7bf73ab"
      },
      "outputs": [],
      "source": [
        "x =\n",
        "print(type(x))"
      ]
    },
    {
      "cell_type": "markdown",
      "id": "86c0fd53",
      "metadata": {
        "id": "86c0fd53"
      },
      "source": [
        "## Operadores ➕➖✖️➗\n",
        " Ejemplos de operadores en Python."
      ]
    },
    {
      "cell_type": "code",
      "execution_count": null,
      "id": "10f9a072",
      "metadata": {
        "id": "10f9a072"
      },
      "outputs": [],
      "source": [
        "x =\n",
        "y =\n",
        "\n",
        "print()"
      ]
    },
    {
      "cell_type": "markdown",
      "id": "dc1d3505",
      "metadata": {
        "id": "dc1d3505"
      },
      "source": [
        "Operadores con String"
      ]
    },
    {
      "cell_type": "code",
      "execution_count": null,
      "id": "07c90da5",
      "metadata": {
        "id": "07c90da5"
      },
      "outputs": [],
      "source": [
        "intro =\n",
        "nombre =\n",
        "\n",
        "print()"
      ]
    },
    {
      "cell_type": "markdown",
      "id": "d8b7fcc1",
      "metadata": {
        "id": "d8b7fcc1"
      },
      "source": [
        "Comparadores"
      ]
    },
    {
      "cell_type": "code",
      "execution_count": null,
      "id": "fbe1b533",
      "metadata": {
        "id": "fbe1b533"
      },
      "outputs": [],
      "source": [
        "x =\n",
        "y =\n",
        "print()"
      ]
    },
    {
      "cell_type": "markdown",
      "id": "a0616551",
      "metadata": {
        "id": "a0616551"
      },
      "source": [
        "## Listas 📋\n",
        " Trabajando con listas en Python."
      ]
    },
    {
      "cell_type": "code",
      "execution_count": null,
      "id": "25df7aca",
      "metadata": {
        "id": "25df7aca"
      },
      "outputs": [],
      "source": [
        "listaFrutas = []\n",
        "print(listaFrutas)"
      ]
    },
    {
      "cell_type": "code",
      "execution_count": null,
      "id": "908420cb",
      "metadata": {
        "id": "908420cb"
      },
      "outputs": [],
      "source": [
        "print(listaFrutas[])"
      ]
    },
    {
      "cell_type": "code",
      "execution_count": null,
      "id": "b7340e23",
      "metadata": {
        "id": "b7340e23"
      },
      "outputs": [],
      "source": [
        "listaFrutas.append()\n",
        "print(listaFrutas)"
      ]
    },
    {
      "cell_type": "code",
      "execution_count": null,
      "id": "46d38218",
      "metadata": {
        "id": "46d38218"
      },
      "outputs": [],
      "source": [
        "print(listafrutas[])"
      ]
    },
    {
      "cell_type": "code",
      "execution_count": null,
      "id": "3de5d03b",
      "metadata": {
        "id": "3de5d03b"
      },
      "outputs": [],
      "source": [
        "len(listaFrutas)"
      ]
    },
    {
      "cell_type": "markdown",
      "id": "e048fec9",
      "metadata": {
        "id": "e048fec9"
      },
      "source": [
        "## Tuplas 🧩\n",
        " Uso de tuplas en Python."
      ]
    },
    {
      "cell_type": "code",
      "execution_count": null,
      "id": "0412e01e",
      "metadata": {
        "id": "0412e01e"
      },
      "outputs": [],
      "source": [
        "(1, 2, 3)"
      ]
    },
    {
      "cell_type": "markdown",
      "id": "8ad7f030",
      "metadata": {
        "id": "8ad7f030"
      },
      "source": [
        "## Diccionarios 📖\n",
        " Uso de diccionarios en Python."
      ]
    },
    {
      "cell_type": "code",
      "execution_count": null,
      "id": "e065951f",
      "metadata": {
        "id": "e065951f"
      },
      "outputs": [],
      "source": [
        "inventario = {\n",
        "    'frutas':['manzana','naranja','platano'],\n",
        "    'verduras':['lechuga','tomate','cebolla'],\n",
        "}\n",
        "print(inventario)"
      ]
    },
    {
      "cell_type": "markdown",
      "id": "cd62a5c2",
      "metadata": {
        "id": "cd62a5c2"
      },
      "source": [
        "Obtiene todas las frutas o todas las verduras"
      ]
    },
    {
      "cell_type": "code",
      "execution_count": null,
      "id": "77fb37f7",
      "metadata": {
        "id": "77fb37f7"
      },
      "outputs": [],
      "source": [
        "print(inventario[])"
      ]
    },
    {
      "cell_type": "code",
      "execution_count": null,
      "id": "3f77230b",
      "metadata": {
        "id": "3f77230b"
      },
      "outputs": [],
      "source": [
        "print(inventario[][])"
      ]
    },
    {
      "cell_type": "markdown",
      "id": "a0d82ca8",
      "metadata": {
        "id": "a0d82ca8"
      },
      "source": [
        "## Condicionales 🔀\n",
        " Uso de condiciones en Python."
      ]
    },
    {
      "cell_type": "code",
      "execution_count": null,
      "id": "2ad57446",
      "metadata": {
        "id": "2ad57446"
      },
      "outputs": [],
      "source": [
        "x =\n",
        "if x > 0:\n",
        "    print('x es positivo')"
      ]
    },
    {
      "cell_type": "markdown",
      "id": "0a49d07f",
      "metadata": {
        "id": "0a49d07f"
      },
      "source": [
        "Utiliza ahora el condicional else"
      ]
    },
    {
      "cell_type": "code",
      "execution_count": null,
      "id": "9259ac84",
      "metadata": {
        "id": "9259ac84"
      },
      "outputs": [],
      "source": [
        "x =\n",
        "if x > 0:\n",
        "    print('x es positivo')\n",
        "else:\n",
        "    print('x es negativo')"
      ]
    },
    {
      "cell_type": "markdown",
      "id": "92564ba3",
      "metadata": {
        "id": "92564ba3"
      },
      "source": [
        "Utiliza ahora el condicional elif"
      ]
    },
    {
      "cell_type": "code",
      "execution_count": null,
      "id": "41552bbf",
      "metadata": {
        "id": "41552bbf"
      },
      "outputs": [],
      "source": [
        "x =\n",
        "if x == 0:\n",
        "    print('x es 0')\n",
        "elif x > 0:\n",
        "    print(f'{x} es postivo')\n",
        "else:\n",
        "    print(f'{x} es negativo')"
      ]
    },
    {
      "cell_type": "markdown",
      "id": "d859ea1a",
      "metadata": {
        "id": "d859ea1a"
      },
      "source": [
        "## Bucles/Loops 🔁\n",
        " Introducción a bucles en Python."
      ]
    },
    {
      "cell_type": "code",
      "execution_count": null,
      "id": "2061baba",
      "metadata": {
        "id": "2061baba"
      },
      "outputs": [],
      "source": [
        "vuelta = 0\n",
        "while vuelta < 7:\n",
        "    print(vuelta)\n",
        "    vuelta += 1"
      ]
    },
    {
      "cell_type": "markdown",
      "id": "782a8998",
      "metadata": {
        "id": "782a8998"
      },
      "source": [
        "Utiliza break para romper el loop"
      ]
    },
    {
      "cell_type": "code",
      "execution_count": null,
      "id": "5667729e",
      "metadata": {
        "id": "5667729e"
      },
      "outputs": [],
      "source": [
        "vuelta = 0\n",
        "while vuelta < 7:\n",
        "    print(vuelta)\n",
        "    vuelta += 1\n",
        "    if vuelta == 3:\n",
        "        break"
      ]
    },
    {
      "cell_type": "markdown",
      "id": "f031a5c8",
      "metadata": {
        "id": "f031a5c8"
      },
      "source": [
        "Ciclo for"
      ]
    },
    {
      "cell_type": "code",
      "execution_count": null,
      "id": "0f760b6f",
      "metadata": {
        "id": "0f760b6f"
      },
      "outputs": [],
      "source": [
        "listaFrutas = ['manzana','naranja','platano']\n",
        "for"
      ]
    },
    {
      "cell_type": "markdown",
      "id": "cfbe3f6f",
      "metadata": {
        "id": "cfbe3f6f"
      },
      "source": [
        "## Funciones 🛠️\n",
        " Definiendo funciones en Python."
      ]
    },
    {
      "cell_type": "code",
      "execution_count": null,
      "id": "f29a56c5",
      "metadata": {
        "id": "f29a56c5"
      },
      "outputs": [],
      "source": [
        "def sumar():\n",
        "    x =\n",
        "    y =\n",
        "    z =\n",
        "    print()"
      ]
    },
    {
      "cell_type": "markdown",
      "id": "5c4192e5",
      "metadata": {
        "id": "5c4192e5"
      },
      "source": [
        "Prueba la funcion anterior"
      ]
    },
    {
      "cell_type": "code",
      "execution_count": null,
      "id": "58b54b73",
      "metadata": {
        "id": "58b54b73"
      },
      "outputs": [],
      "source": [
        "sumar()"
      ]
    },
    {
      "cell_type": "markdown",
      "id": "b497090e",
      "metadata": {
        "id": "b497090e"
      },
      "source": [
        "Define una función con argumentos"
      ]
    },
    {
      "cell_type": "code",
      "execution_count": null,
      "id": "de1ec0a7",
      "metadata": {
        "id": "de1ec0a7"
      },
      "outputs": [],
      "source": [
        "def cuadrado():\n",
        "    y =\n",
        "    return y"
      ]
    },
    {
      "cell_type": "markdown",
      "id": "bdc3302c",
      "metadata": {
        "id": "bdc3302c"
      },
      "source": [
        "Prueba tu función con argumento"
      ]
    },
    {
      "cell_type": "code",
      "execution_count": null,
      "id": "7df546a2",
      "metadata": {
        "id": "7df546a2"
      },
      "outputs": [],
      "source": [
        "cuadrado()"
      ]
    },
    {
      "cell_type": "markdown",
      "id": "933596e6",
      "metadata": {
        "id": "933596e6"
      },
      "source": [
        "Define una función con mas argumentos:"
      ]
    },
    {
      "cell_type": "code",
      "execution_count": null,
      "id": "34728188",
      "metadata": {
        "id": "34728188"
      },
      "outputs": [],
      "source": [
        "def edad(añoActual,añoNacimiento):\n",
        "    edad = añoActual - añoNacimiento\n",
        "    return edad"
      ]
    },
    {
      "cell_type": "markdown",
      "id": "3e6d5dc7",
      "metadata": {
        "id": "3e6d5dc7"
      },
      "source": [
        "Prueba tu función anterior"
      ]
    },
    {
      "cell_type": "code",
      "execution_count": null,
      "id": "a29186ab",
      "metadata": {
        "id": "a29186ab"
      },
      "outputs": [],
      "source": [
        "print('Tienes',edad(2023,1990),'años')"
      ]
    },
    {
      "cell_type": "markdown",
      "id": "b3b7d384",
      "metadata": {
        "id": "b3b7d384"
      },
      "source": [
        "## Módulos 📦\n",
        " Importación de módulos en Python. Documentación del módulo (https://docs.python.org/es/3/library/math.html)"
      ]
    },
    {
      "cell_type": "code",
      "execution_count": null,
      "id": "508565e6",
      "metadata": {
        "id": "508565e6"
      },
      "outputs": [],
      "source": [
        "import math"
      ]
    },
    {
      "cell_type": "markdown",
      "id": "dbc6b467",
      "metadata": {
        "id": "dbc6b467"
      },
      "source": [
        "Prueba algunas funciones del módulo"
      ]
    },
    {
      "cell_type": "code",
      "execution_count": null,
      "id": "0ef75f12",
      "metadata": {
        "id": "0ef75f12"
      },
      "outputs": [],
      "source": [
        "print(math.sqrt(25))\n",
        "print(math.pow(2,3))"
      ]
    },
    {
      "cell_type": "markdown",
      "id": "c0641613",
      "metadata": {
        "id": "c0641613"
      },
      "source": [
        "Importa lo necesario que necesites de la librería"
      ]
    },
    {
      "cell_type": "code",
      "execution_count": null,
      "id": "a0d6577d",
      "metadata": {
        "id": "a0d6577d"
      },
      "outputs": [],
      "source": [
        "from math import pi"
      ]
    },
    {
      "cell_type": "markdown",
      "id": "28d773c4",
      "metadata": {
        "id": "28d773c4"
      },
      "source": [
        "Utiliza lo importado"
      ]
    },
    {
      "cell_type": "code",
      "execution_count": null,
      "id": "5aeb7cf5",
      "metadata": {
        "id": "5aeb7cf5"
      },
      "outputs": [],
      "source": [
        "print(pi)"
      ]
    },
    {
      "cell_type": "markdown",
      "id": "75408190",
      "metadata": {
        "id": "75408190"
      },
      "source": [
        "## Finalizaste la 1era Parte! 🎉\n",
        "Antes del Coffee Break ☕ revisa este link\n",
        "\n",
        "https://auth0.openai.com/u/login/identifier?state=hKFo2SAzQU1SWUtNN2NsaGZ3VzM0WkI2cFNEWkxtdkZ6SjU5Y6Fur3VuaXZlcnNhbC1sb2dpbqN0aWTZIHp2Qm1TRkJpWXlCYU5GdXFHN3NmdVhpc082bi1QUHBmo2NpZNkgRFJpdnNubTJNdTQyVDNLT3BxZHR3QjNOWXZpSFl6d0Q\n",
        "\n",
        "o desde https://openai.com haz login"
      ]
    }
  ],
  "metadata": {
    "kernelspec": {
      "display_name": "Python 3",
      "language": "python",
      "name": "python3"
    },
    "language_info": {
      "codemirror_mode": {
        "name": "ipython",
        "version": 3
      },
      "file_extension": ".py",
      "mimetype": "text/x-python",
      "name": "python",
      "nbconvert_exporter": "python",
      "pygments_lexer": "ipython3",
      "version": "3.11.4"
    },
    "colab": {
      "provenance": [],
      "include_colab_link": true
    }
  },
  "nbformat": 4,
  "nbformat_minor": 5
}