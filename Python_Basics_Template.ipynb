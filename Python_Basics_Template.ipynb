{
  "cells": [
    {
      "cell_type": "markdown",
      "metadata": {
        "id": "view-in-github",
        "colab_type": "text"
      },
      "source": [
        "<a href=\"https://colab.research.google.com/github/Inostroza7/Python-Basics/blob/main/Python_Basics_Template.ipynb\" target=\"_parent\"><img src=\"https://colab.research.google.com/assets/colab-badge.svg\" alt=\"Open In Colab\"/></a>"
      ]
    },
    {
      "cell_type": "markdown",
      "id": "2233955e",
      "metadata": {
        "id": "2233955e"
      },
      "source": [
        "# Python Basics 🐍"
      ]
    },
    {
      "cell_type": "markdown",
      "id": "9ebdd867",
      "metadata": {
        "id": "9ebdd867"
      },
      "source": [
        "\n",
        "Python es un lenguaje de programación de alto nivel, interpretado y de propósito general.\n",
        "Con su diseño sencillo y fácil de leer, se ha convertido en uno de los lenguajes de programación más populares del mundo 🌎.\n",
        "Su versatilidad lo hace perfecto para la programación web, científica, análisis de datos, inteligencia artificial y mucho más.\n",
        "Aprender Python es una habilidad esencial en el mundo moderno de la tecnología 💻.\n",
        "\n",
        "Este repositorio está diseñado para enseñar los conceptos básicos de Python a quienes estén interesados en aprender este versátil lenguaje de programación.\n",
        "Da el primer paso hacia tu futuro en la programación con este curso interactivo y emocionante 🚀.\n"
      ]
    },
    {
      "cell_type": "markdown",
      "id": "dc21ee01",
      "metadata": {
        "id": "dc21ee01"
      },
      "source": [
        "\n",
        "## Contenido 📚\n",
        "1. [Hola Mundo](#Hola-Mundo) 🖨️\n",
        "2. [Variables](#Variables) 🔢\n",
        "3. [Operadores](#Operadores) ➕➖✖️➗\n",
        "4. [Strings](#Strings) 🧵\n",
        "5. [Listas](#Listas) 📋\n",
        "6. [Tuplas](#Tuplas) 🧩\n",
        "7. [Sets](#Sets) 🧮\n",
        "8. [Diccionarios](#Diccionarios) 📖\n",
        "9. [Condicionales](#Condicionales) 🔀\n",
        "10. [Bucles/Loops](#Bucles/Loops) 🔁\n",
        "11. [Funciones](#Funciones) 🛠️\n",
        "12. [Clases](#Clases) 🏫\n",
        "13. [Excepciones](#Excepciones) ⚠️\n",
        "14. [Módulos](#Módulos) 📦\n"
      ]
    },
    {
      "cell_type": "markdown",
      "id": "69181bfc",
      "metadata": {
        "id": "69181bfc"
      },
      "source": [
        "\n",
        "## Cómo utilizar este repositorio 💻\n",
        "\n",
        "Puedes clonar este repositorio o descargarlo como ZIP para acceder a todos los archivos y recursos.\n",
        "Se recomienda seguir las lecciones en orden para una mejor comprensión 🗂️.\n"
      ]
    },
    {
      "cell_type": "markdown",
      "id": "0eff463b",
      "metadata": {
        "id": "0eff463b"
      },
      "source": [
        "\n",
        "## Contribuir 👨‍💻\n",
        "\n",
        "Si deseas contribuir con este proyecto, siéntete libre de hacer un pull request o abrir un issue. ¡Tu colaboración es bienvenida! 🤝\n"
      ]
    },
    {
      "cell_type": "markdown",
      "id": "31f9aff5",
      "metadata": {
        "id": "31f9aff5"
      },
      "source": [
        "## Hola Mundo 🖨️\n",
        " Ejemplo de cómo imprimir 'Hola Mundo' en Python."
      ]
    },
    {
      "cell_type": "code",
      "execution_count": null,
      "id": "c8243627",
      "metadata": {
        "id": "c8243627",
        "outputId": "3503efba-e248-4f71-c0ad-bb059d09a57f"
      },
      "outputs": [
        {
          "name": "stdout",
          "output_type": "stream",
          "text": [
            "hola mundo\n"
          ]
        }
      ],
      "source": [
        "print('hola mundo')"
      ]
    },
    {
      "cell_type": "markdown",
      "id": "cc4421aa",
      "metadata": {
        "id": "cc4421aa"
      },
      "source": [
        "## Variables 🔢\n",
        " Introducción a variables en Python."
      ]
    },
    {
      "cell_type": "code",
      "execution_count": null,
      "id": "5ad58d6a",
      "metadata": {
        "id": "5ad58d6a",
        "outputId": "82215978-2b52-4d25-bab7-6cb432f72324"
      },
      "outputs": [
        {
          "name": "stdout",
          "output_type": "stream",
          "text": [
            "Mi primera Variable\n"
          ]
        }
      ],
      "source": [
        "mi_primeraVariable = 'Mi primera Variable'\n",
        "print(mi_primeraVariable)"
      ]
    },
    {
      "cell_type": "markdown",
      "id": "4b75ad8b",
      "metadata": {
        "id": "4b75ad8b"
      },
      "source": [
        "Probando nombres de Variables"
      ]
    },
    {
      "cell_type": "code",
      "execution_count": null,
      "metadata": {
        "id": "pkhELwd8du7n"
      },
      "outputs": [],
      "source": [
        "MiPrimeraVariable = 'Mi primera Variable'"
      ],
      "id": "pkhELwd8du7n"
    },
    {
      "cell_type": "markdown",
      "id": "2715cc28",
      "metadata": {
        "id": "2715cc28"
      },
      "source": [
        "Verifica el tipo de tu variable"
      ]
    },
    {
      "cell_type": "code",
      "execution_count": null,
      "id": "e7bf73ab",
      "metadata": {
        "id": "e7bf73ab",
        "outputId": "f4fa05f0-a372-4489-e3ec-9ed10ac4d309"
      },
      "outputs": [
        {
          "name": "stdout",
          "output_type": "stream",
          "text": [
            "<class 'bool'>\n"
          ]
        }
      ],
      "source": [
        "x = True\n",
        "print(type(x))"
      ]
    },
    {
      "cell_type": "markdown",
      "id": "86c0fd53",
      "metadata": {
        "id": "86c0fd53"
      },
      "source": [
        "## Operadores ➕➖✖️➗\n",
        " Ejemplos de operadores en Python."
      ]
    },
    {
      "cell_type": "code",
      "execution_count": null,
      "id": "10f9a072",
      "metadata": {
        "id": "10f9a072",
        "outputId": "700bbc64-c90b-4a80-84a2-f40ee40095e8"
      },
      "outputs": [
        {
          "name": "stdout",
          "output_type": "stream",
          "text": [
            "12\n"
          ]
        }
      ],
      "source": [
        "x = 5\n",
        "y = 7\n",
        "\n",
        "print(x+y)"
      ]
    },
    {
      "cell_type": "markdown",
      "id": "dc1d3505",
      "metadata": {
        "id": "dc1d3505"
      },
      "source": [
        "Operadores con String"
      ]
    },
    {
      "cell_type": "code",
      "execution_count": null,
      "id": "07c90da5",
      "metadata": {
        "id": "07c90da5",
        "outputId": "5addbb0b-de3c-474e-d484-ba7b45f30cde"
      },
      "outputs": [
        {
          "name": "stdout",
          "output_type": "stream",
          "text": [
            "Hola, mi nombre es Gustavo\n"
          ]
        }
      ],
      "source": [
        "nombre = 'Gustavo'\n",
        "intro = 'Hola, mi nombre es'\n",
        "\n",
        "print(intro,nombre)"
      ]
    },
    {
      "cell_type": "markdown",
      "id": "d8b7fcc1",
      "metadata": {
        "id": "d8b7fcc1"
      },
      "source": [
        "Comparadores"
      ]
    },
    {
      "cell_type": "code",
      "execution_count": null,
      "id": "fbe1b533",
      "metadata": {
        "id": "fbe1b533",
        "outputId": "1abb1a5a-5596-4a8b-8d7f-10d08e75e77f"
      },
      "outputs": [
        {
          "name": "stdout",
          "output_type": "stream",
          "text": [
            "False\n"
          ]
        }
      ],
      "source": [
        "x = 4\n",
        "y = 5\n",
        "print(x>y)"
      ]
    },
    {
      "cell_type": "markdown",
      "id": "a0616551",
      "metadata": {
        "id": "a0616551"
      },
      "source": [
        "## Listas 📋\n",
        " Trabajando con listas en Python."
      ]
    },
    {
      "cell_type": "code",
      "execution_count": null,
      "id": "25df7aca",
      "metadata": {
        "id": "25df7aca",
        "outputId": "55a209c1-98c2-4030-cbb6-f2bff398ceaa"
      },
      "outputs": [
        {
          "name": "stdout",
          "output_type": "stream",
          "text": [
            "['manzana', 'naranja', 'platano']\n"
          ]
        }
      ],
      "source": [
        "listaFrutas = ['manzana','naranja','platano']\n",
        "print(listaFrutas)"
      ]
    },
    {
      "cell_type": "code",
      "execution_count": null,
      "id": "908420cb",
      "metadata": {
        "id": "908420cb",
        "outputId": "3efb420e-0c7e-4ec8-d240-0e1968f56b31"
      },
      "outputs": [
        {
          "name": "stdout",
          "output_type": "stream",
          "text": [
            "manzana\n"
          ]
        }
      ],
      "source": [
        "print(listaFrutas[0])"
      ]
    },
    {
      "cell_type": "code",
      "execution_count": null,
      "id": "b7340e23",
      "metadata": {
        "id": "b7340e23",
        "outputId": "f477c8a2-9727-414b-f174-a7a293b6904f"
      },
      "outputs": [
        {
          "name": "stdout",
          "output_type": "stream",
          "text": [
            "['manzana', 'naranja', 'platano', 'pera']\n"
          ]
        }
      ],
      "source": [
        "listaFrutas.append('pera')\n",
        "print(listaFrutas)"
      ]
    },
    {
      "cell_type": "code",
      "execution_count": null,
      "id": "3de5d03b",
      "metadata": {
        "id": "3de5d03b",
        "outputId": "523b7a2a-3f14-46da-d32d-148f42c84eed"
      },
      "outputs": [
        {
          "data": {
            "text/plain": [
              "3"
            ]
          },
          "execution_count": 34,
          "metadata": {},
          "output_type": "execute_result"
        }
      ],
      "source": [
        "len(listaFrutas)"
      ]
    },
    {
      "cell_type": "markdown",
      "id": "e048fec9",
      "metadata": {
        "id": "e048fec9"
      },
      "source": [
        "## Tuplas 🧩\n",
        " Uso de tuplas en Python."
      ]
    },
    {
      "cell_type": "code",
      "execution_count": null,
      "id": "0412e01e",
      "metadata": {
        "id": "0412e01e"
      },
      "outputs": [],
      "source": [
        "(1, 2, 3)"
      ]
    },
    {
      "cell_type": "markdown",
      "id": "7d272dd0",
      "metadata": {
        "id": "7d272dd0"
      },
      "source": [
        "## Sets 🧮\n",
        " Introducción a sets en Python."
      ]
    },
    {
      "cell_type": "code",
      "execution_count": null,
      "id": "7c15636d",
      "metadata": {
        "id": "7c15636d"
      },
      "outputs": [],
      "source": [
        "{1, 2, 3}"
      ]
    },
    {
      "cell_type": "markdown",
      "id": "8ad7f030",
      "metadata": {
        "id": "8ad7f030"
      },
      "source": [
        "## Diccionarios 📖\n",
        " Uso de diccionarios en Python."
      ]
    },
    {
      "cell_type": "code",
      "execution_count": null,
      "id": "e065951f",
      "metadata": {
        "id": "e065951f",
        "outputId": "b512dd49-53dc-4896-bbae-393f46d4709f"
      },
      "outputs": [
        {
          "name": "stdout",
          "output_type": "stream",
          "text": [
            "{'frutas': ['manzana', 'naranja', 'platano'], 'verduras': ['lechuga', 'tomate', 'cebolla']}\n"
          ]
        }
      ],
      "source": [
        "inventario = {\n",
        "    'frutas':['manzana','naranja','platano'],\n",
        "    'verduras':['lechuga','tomate','cebolla'],\n",
        "}\n",
        "print(inventario)"
      ]
    },
    {
      "cell_type": "markdown",
      "id": "cd62a5c2",
      "metadata": {
        "id": "cd62a5c2"
      },
      "source": [
        "Obtiene todas las frutas o todas las verduras"
      ]
    },
    {
      "cell_type": "code",
      "execution_count": null,
      "id": "77fb37f7",
      "metadata": {
        "id": "77fb37f7",
        "outputId": "eb6fee10-144b-4103-dcb3-434f7e74825a"
      },
      "outputs": [
        {
          "name": "stdout",
          "output_type": "stream",
          "text": [
            "['manzana', 'naranja', 'platano']\n"
          ]
        }
      ],
      "source": [
        "print(inventario['frutas'])"
      ]
    },
    {
      "cell_type": "code",
      "execution_count": null,
      "id": "3f77230b",
      "metadata": {
        "id": "3f77230b",
        "outputId": "6948f969-e5ac-40ce-82a7-3d542ad90670"
      },
      "outputs": [
        {
          "name": "stdout",
          "output_type": "stream",
          "text": [
            "manzana\n"
          ]
        }
      ],
      "source": [
        "print(inventario['frutas'][0])"
      ]
    },
    {
      "cell_type": "markdown",
      "id": "a0d82ca8",
      "metadata": {
        "id": "a0d82ca8"
      },
      "source": [
        "## Condicionales 🔀\n",
        " Uso de condiciones en Python."
      ]
    },
    {
      "cell_type": "code",
      "execution_count": null,
      "id": "2ad57446",
      "metadata": {
        "id": "2ad57446",
        "outputId": "71e5bad5-4d0a-4709-fdaa-4bbd03490b71"
      },
      "outputs": [
        {
          "name": "stdout",
          "output_type": "stream",
          "text": [
            "x es positivo\n"
          ]
        }
      ],
      "source": [
        "x = 0\n",
        "if x > 0:\n",
        "    print('x es positivo')"
      ]
    },
    {
      "cell_type": "markdown",
      "id": "0a49d07f",
      "metadata": {
        "id": "0a49d07f"
      },
      "source": [
        "Utiliza ahora el condicional else"
      ]
    },
    {
      "cell_type": "code",
      "execution_count": null,
      "id": "9259ac84",
      "metadata": {
        "id": "9259ac84",
        "outputId": "1876eb9d-9600-4c20-82fc-de828592854d"
      },
      "outputs": [
        {
          "name": "stdout",
          "output_type": "stream",
          "text": [
            "x es negativo\n"
          ]
        }
      ],
      "source": [
        "x = 0\n",
        "if x > 0:\n",
        "    print('x es positivo')\n",
        "else:\n",
        "    print('x es negativo')"
      ]
    },
    {
      "cell_type": "markdown",
      "id": "92564ba3",
      "metadata": {
        "id": "92564ba3"
      },
      "source": [
        "Utiliza ahora el condicional elif"
      ]
    },
    {
      "cell_type": "code",
      "execution_count": null,
      "id": "41552bbf",
      "metadata": {
        "id": "41552bbf",
        "outputId": "eb92cf36-3fe7-447f-f27c-0f88ebaa893b"
      },
      "outputs": [
        {
          "name": "stdout",
          "output_type": "stream",
          "text": [
            "15 es postivo\n"
          ]
        }
      ],
      "source": [
        "x = 15\n",
        "if x == 0:\n",
        "    print('x es 0')\n",
        "elif x > 0:\n",
        "    print(f'{x} es postivo')\n",
        "else:\n",
        "    print(f'{x} es negativo')"
      ]
    },
    {
      "cell_type": "markdown",
      "id": "d859ea1a",
      "metadata": {
        "id": "d859ea1a"
      },
      "source": [
        "## Bucles/Loops 🔁\n",
        " Introducción a bucles en Python."
      ]
    },
    {
      "cell_type": "code",
      "execution_count": null,
      "id": "2061baba",
      "metadata": {
        "id": "2061baba",
        "outputId": "e2c3f9f7-181e-466f-a419-7650fa74229e"
      },
      "outputs": [
        {
          "name": "stdout",
          "output_type": "stream",
          "text": [
            "0\n",
            "1\n",
            "2\n",
            "3\n",
            "4\n"
          ]
        }
      ],
      "source": [
        "vuelta = 0\n",
        "while vuelta < 5:\n",
        "    print(vuelta)\n",
        "    vuelta += 1"
      ]
    },
    {
      "cell_type": "markdown",
      "id": "782a8998",
      "metadata": {
        "id": "782a8998"
      },
      "source": [
        "Utiliza break para romper el loop"
      ]
    },
    {
      "cell_type": "code",
      "execution_count": null,
      "id": "5667729e",
      "metadata": {
        "id": "5667729e",
        "outputId": "15ec3269-3906-4469-e1b7-6268f0cfeb51"
      },
      "outputs": [
        {
          "name": "stdout",
          "output_type": "stream",
          "text": [
            "0\n",
            "1\n",
            "2\n"
          ]
        }
      ],
      "source": [
        "vuelta = 0\n",
        "while vuelta < 5:\n",
        "    print(vuelta)\n",
        "    vuelta += 1\n",
        "    if vuelta == 3:\n",
        "        break"
      ]
    },
    {
      "cell_type": "markdown",
      "id": "f031a5c8",
      "metadata": {
        "id": "f031a5c8"
      },
      "source": [
        "Ciclo for"
      ]
    },
    {
      "cell_type": "code",
      "execution_count": null,
      "id": "0f760b6f",
      "metadata": {
        "id": "0f760b6f",
        "outputId": "5a79a445-3f80-4608-bbb9-8b4a714cd021"
      },
      "outputs": [
        {
          "name": "stdout",
          "output_type": "stream",
          "text": [
            "manzana\n",
            "naranja\n",
            "platano\n"
          ]
        }
      ],
      "source": [
        "listaFrutas = ['manzana','naranja','platano']\n",
        "for fruta in listaFrutas:\n",
        "    print(fruta)"
      ]
    },
    {
      "cell_type": "markdown",
      "id": "cfbe3f6f",
      "metadata": {
        "id": "cfbe3f6f"
      },
      "source": [
        "## Funciones 🛠️\n",
        " Definiendo funciones en Python."
      ]
    },
    {
      "cell_type": "code",
      "execution_count": null,
      "id": "f29a56c5",
      "metadata": {
        "id": "f29a56c5"
      },
      "outputs": [],
      "source": [
        "def sumar():\n",
        "    x = 2\n",
        "    y = 3\n",
        "    z = x + y\n",
        "    print(z)"
      ]
    },
    {
      "cell_type": "markdown",
      "id": "5c4192e5",
      "metadata": {
        "id": "5c4192e5"
      },
      "source": [
        "Prueba la funcion anterior"
      ]
    },
    {
      "cell_type": "code",
      "execution_count": null,
      "id": "58b54b73",
      "metadata": {
        "id": "58b54b73",
        "outputId": "50d5e06e-962e-4ac6-def5-2125dddbec9a"
      },
      "outputs": [
        {
          "name": "stdout",
          "output_type": "stream",
          "text": [
            "5\n"
          ]
        }
      ],
      "source": [
        "sumar()"
      ]
    },
    {
      "cell_type": "markdown",
      "id": "b497090e",
      "metadata": {
        "id": "b497090e"
      },
      "source": [
        "Define una función con argumentos"
      ]
    },
    {
      "cell_type": "code",
      "execution_count": null,
      "id": "de1ec0a7",
      "metadata": {
        "id": "de1ec0a7"
      },
      "outputs": [],
      "source": [
        "def cuadrado(x):\n",
        "    y = x*x\n",
        "    return y"
      ]
    },
    {
      "cell_type": "markdown",
      "id": "bdc3302c",
      "metadata": {
        "id": "bdc3302c"
      },
      "source": [
        "Prueba tu función con argumento"
      ]
    },
    {
      "cell_type": "code",
      "execution_count": null,
      "id": "7df546a2",
      "metadata": {
        "id": "7df546a2",
        "outputId": "ffaceeed-b674-4236-94c9-0bbe8021144d"
      },
      "outputs": [
        {
          "data": {
            "text/plain": [
              "25"
            ]
          },
          "execution_count": 68,
          "metadata": {},
          "output_type": "execute_result"
        }
      ],
      "source": [
        "cuadrado(5)"
      ]
    },
    {
      "cell_type": "markdown",
      "id": "933596e6",
      "metadata": {
        "id": "933596e6"
      },
      "source": [
        "Define una función con mas argumentos:"
      ]
    },
    {
      "cell_type": "code",
      "execution_count": null,
      "id": "34728188",
      "metadata": {
        "id": "34728188"
      },
      "outputs": [],
      "source": [
        "def edad(añoActual,añoNacimiento):\n",
        "    edad = añoActual - añoNacimiento\n",
        "    return edad"
      ]
    },
    {
      "cell_type": "markdown",
      "id": "3e6d5dc7",
      "metadata": {
        "id": "3e6d5dc7"
      },
      "source": [
        "Prueba tu función anterior"
      ]
    },
    {
      "cell_type": "code",
      "execution_count": null,
      "id": "a29186ab",
      "metadata": {
        "id": "a29186ab",
        "outputId": "aa4cbe67-a9ab-419d-b789-e1812fb0fa5c"
      },
      "outputs": [
        {
          "name": "stdout",
          "output_type": "stream",
          "text": [
            "Tienes 33 años\n"
          ]
        }
      ],
      "source": [
        "print('Tienes',edad(2023,1990),'años')"
      ]
    },
    {
      "cell_type": "markdown",
      "id": "b3b7d384",
      "metadata": {
        "id": "b3b7d384"
      },
      "source": [
        "## Módulos 📦\n",
        " Importación de módulos en Python. Documentación del módulo (https://docs.python.org/es/3/library/math.html)"
      ]
    },
    {
      "cell_type": "code",
      "execution_count": null,
      "id": "508565e6",
      "metadata": {
        "id": "508565e6"
      },
      "outputs": [],
      "source": [
        "import math"
      ]
    },
    {
      "cell_type": "markdown",
      "id": "dbc6b467",
      "metadata": {
        "id": "dbc6b467"
      },
      "source": [
        "Prueba algunas funciones del módulo"
      ]
    },
    {
      "cell_type": "code",
      "execution_count": null,
      "id": "0ef75f12",
      "metadata": {
        "id": "0ef75f12",
        "outputId": "85ff5b9e-17de-424d-cbc6-443a9d1064d8"
      },
      "outputs": [
        {
          "name": "stdout",
          "output_type": "stream",
          "text": [
            "5.0\n",
            "8.0\n"
          ]
        }
      ],
      "source": [
        "print(math.sqrt(25))\n",
        "print(math.pow(2,3))"
      ]
    },
    {
      "cell_type": "markdown",
      "id": "c0641613",
      "metadata": {
        "id": "c0641613"
      },
      "source": [
        "Importa lo necesario que necesites de la librería"
      ]
    },
    {
      "cell_type": "code",
      "execution_count": null,
      "id": "a0d6577d",
      "metadata": {
        "id": "a0d6577d"
      },
      "outputs": [],
      "source": [
        "from math import pi"
      ]
    },
    {
      "cell_type": "markdown",
      "id": "28d773c4",
      "metadata": {
        "id": "28d773c4"
      },
      "source": [
        "Utiliza lo importado"
      ]
    },
    {
      "cell_type": "code",
      "execution_count": null,
      "id": "5aeb7cf5",
      "metadata": {
        "id": "5aeb7cf5",
        "outputId": "9dfe74b2-6c07-4b5c-cd69-2313024a1582"
      },
      "outputs": [
        {
          "name": "stdout",
          "output_type": "stream",
          "text": [
            "3.141592653589793\n"
          ]
        }
      ],
      "source": [
        "print(pi)"
      ]
    },
    {
      "cell_type": "markdown",
      "id": "75408190",
      "metadata": {
        "id": "75408190"
      },
      "source": [
        "## Finalizaste la 1era Parte! 🎉\n",
        "Antes del Coffee Break ☕ revisa este link\n",
        "\n",
        "https://auth0.openai.com/u/login/identifier?state=hKFo2SAzQU1SWUtNN2NsaGZ3VzM0WkI2cFNEWkxtdkZ6SjU5Y6Fur3VuaXZlcnNhbC1sb2dpbqN0aWTZIHp2Qm1TRkJpWXlCYU5GdXFHN3NmdVhpc082bi1QUHBmo2NpZNkgRFJpdnNubTJNdTQyVDNLT3BxZHR3QjNOWXZpSFl6d0Q\n",
        "\n",
        "o desde https://openai.com haz login"
      ]
    }
  ],
  "metadata": {
    "kernelspec": {
      "display_name": "Python 3",
      "language": "python",
      "name": "python3"
    },
    "language_info": {
      "codemirror_mode": {
        "name": "ipython",
        "version": 3
      },
      "file_extension": ".py",
      "mimetype": "text/x-python",
      "name": "python",
      "nbconvert_exporter": "python",
      "pygments_lexer": "ipython3",
      "version": "3.11.4"
    },
    "colab": {
      "provenance": [],
      "include_colab_link": true
    }
  },
  "nbformat": 4,
  "nbformat_minor": 5
}