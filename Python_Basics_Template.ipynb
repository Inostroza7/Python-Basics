{
 "cells": [
  {
   "cell_type": "markdown",
   "id": "2233955e",
   "metadata": {},
   "source": [
    "# Python Basics 🐍"
   ]
  },
  {
   "cell_type": "markdown",
   "id": "9ebdd867",
   "metadata": {},
   "source": [
    "\n",
    "Python es un lenguaje de programación de alto nivel, interpretado y de propósito general. \n",
    "Con su diseño sencillo y fácil de leer, se ha convertido en uno de los lenguajes de programación más populares del mundo 🌎.\n",
    "Su versatilidad lo hace perfecto para la programación web, científica, análisis de datos, inteligencia artificial y mucho más.\n",
    "Aprender Python es una habilidad esencial en el mundo moderno de la tecnología 💻.\n",
    "\n",
    "Este repositorio está diseñado para enseñar los conceptos básicos de Python a quienes estén interesados en aprender este versátil lenguaje de programación.\n",
    "Da el primer paso hacia tu futuro en la programación con este curso interactivo y emocionante 🚀.\n"
   ]
  },
  {
   "cell_type": "markdown",
   "id": "dc21ee01",
   "metadata": {},
   "source": [
    "\n",
    "## Contenido 📚\n",
    "1. [Hola Mundo](#Hola-Mundo) 🖨️\n",
    "2. [Variables](#Variables) 🔢\n",
    "3. [Operadores](#Operadores) ➕➖✖️➗\n",
    "4. [Strings](#Strings) 🧵\n",
    "5. [Listas](#Listas) 📋\n",
    "6. [Tuplas](#Tuplas) 🧩\n",
    "7. [Diccionarios](#Diccionarios) 📖\n",
    "8. [Condicionales](#Condicionales) 🔀\n",
    "9. [Bucles/Loops](#Bucles/Loops) 🔁\n",
    "10. [Funciones](#Funciones) 🛠️\n",
    "11. [Módulos](#Módulos) 📦\n"
   ]
  },
  {
   "cell_type": "markdown",
   "id": "69181bfc",
   "metadata": {},
   "source": [
    "\n",
    "## Cómo utilizar este repositorio 💻\n",
    "\n",
    "Puedes clonar este repositorio o descargarlo como ZIP para acceder a todos los archivos y recursos.\n",
    "Se recomienda seguir las lecciones en orden para una mejor comprensión 🗂️.\n"
   ]
  },
  {
   "cell_type": "markdown",
   "id": "0eff463b",
   "metadata": {},
   "source": [
    "\n",
    "## Contribuir 👨‍💻\n",
    "\n",
    "Si deseas contribuir con este proyecto, siéntete libre de hacer un pull request o abrir un issue. ¡Tu colaboración es bienvenida! 🤝\n"
   ]
  },
  {
   "cell_type": "markdown",
   "id": "31f9aff5",
   "metadata": {},
   "source": [
    "## Hola Mundo 🖨️\n",
    " Ejemplo de cómo imprimir 'Hola Mundo' en Python."
   ]
  },
  {
   "cell_type": "code",
   "execution_count": null,
   "id": "2110a14d",
   "metadata": {},
   "outputs": [],
   "source": [
    "x = 3+4\n",
    "print()"
   ]
  },
  {
   "cell_type": "markdown",
   "id": "cc4421aa",
   "metadata": {},
   "source": [
    "## Variables 🔢\n",
    " Introducción a variables en Python."
   ]
  },
  {
   "cell_type": "code",
   "execution_count": null,
   "id": "5ad58d6a",
   "metadata": {},
   "outputs": [],
   "source": [
    "mi_primeraVariable = \n",
    "print(mi_primeraVariable)"
   ]
  },
  {
   "cell_type": "markdown",
   "id": "4b75ad8b",
   "metadata": {},
   "source": [
    "Probando nombres de Variables"
   ]
  },
  {
   "cell_type": "code",
   "execution_count": null,
   "metadata": {},
   "outputs": [],
   "source": [
    "x = 'Mi primera Variable'"
   ]
  },
  {
   "cell_type": "markdown",
   "id": "2715cc28",
   "metadata": {},
   "source": [
    "Verifica el tipo de tu variable"
   ]
  },
  {
   "cell_type": "code",
   "execution_count": null,
   "id": "e7bf73ab",
   "metadata": {},
   "outputs": [],
   "source": [
    "x = \n",
    "print(type(x))"
   ]
  },
  {
   "cell_type": "markdown",
   "id": "86c0fd53",
   "metadata": {},
   "source": [
    "## Operadores ➕➖✖️➗\n",
    " Ejemplos de operadores en Python."
   ]
  },
  {
   "cell_type": "code",
   "execution_count": null,
   "id": "10f9a072",
   "metadata": {},
   "outputs": [],
   "source": [
    "x = \n",
    "y = \n",
    "\n",
    "print()"
   ]
  },
  {
   "cell_type": "markdown",
   "id": "dc1d3505",
   "metadata": {},
   "source": [
    "Operadores con String"
   ]
  },
  {
   "cell_type": "code",
   "execution_count": null,
   "id": "07c90da5",
   "metadata": {},
   "outputs": [],
   "source": [
    "intro = \n",
    "nombre =\n",
    "\n",
    "print()"
   ]
  },
  {
   "cell_type": "markdown",
   "id": "d8b7fcc1",
   "metadata": {},
   "source": [
    "Comparadores"
   ]
  },
  {
   "cell_type": "code",
   "execution_count": null,
   "id": "fbe1b533",
   "metadata": {},
   "outputs": [],
   "source": [
    "x = \n",
    "y = \n",
    "print()"
   ]
  },
  {
   "cell_type": "markdown",
   "id": "a0616551",
   "metadata": {},
   "source": [
    "## Listas 📋\n",
    " Trabajando con listas en Python."
   ]
  },
  {
   "cell_type": "code",
   "execution_count": null,
   "id": "25df7aca",
   "metadata": {},
   "outputs": [],
   "source": [
    "listaFrutas = []\n",
    "print(listaFrutas)"
   ]
  },
  {
   "cell_type": "code",
   "execution_count": null,
   "id": "908420cb",
   "metadata": {},
   "outputs": [],
   "source": [
    "print(listaFrutas[])"
   ]
  },
  {
   "cell_type": "code",
   "execution_count": null,
   "id": "b7340e23",
   "metadata": {},
   "outputs": [],
   "source": [
    "listaFrutas.append()\n",
    "print(listaFrutas)"
   ]
  },
  {
   "cell_type": "code",
   "execution_count": null,
   "id": "46d38218",
   "metadata": {},
   "outputs": [],
   "source": [
    "print(listafrutas[])"
   ]
  },
  {
   "cell_type": "code",
   "execution_count": null,
   "id": "3de5d03b",
   "metadata": {},
   "outputs": [],
   "source": [
    "len(listaFrutas)"
   ]
  },
  {
   "cell_type": "markdown",
   "id": "e048fec9",
   "metadata": {},
   "source": [
    "## Tuplas 🧩\n",
    " Uso de tuplas en Python."
   ]
  },
  {
   "cell_type": "code",
   "execution_count": null,
   "id": "0412e01e",
   "metadata": {},
   "outputs": [],
   "source": [
    "(1, 2, 3)"
   ]
  },
  {
   "cell_type": "markdown",
   "id": "8ad7f030",
   "metadata": {},
   "source": [
    "## Diccionarios 📖\n",
    " Uso de diccionarios en Python."
   ]
  },
  {
   "cell_type": "code",
   "execution_count": null,
   "id": "e065951f",
   "metadata": {},
   "outputs": [],
   "source": [
    "inventario = {\n",
    "    'frutas':['manzana','naranja','platano'],\n",
    "    'verduras':['lechuga','tomate','cebolla'],\n",
    "}\n",
    "print(inventario)"
   ]
  },
  {
   "cell_type": "markdown",
   "id": "cd62a5c2",
   "metadata": {},
   "source": [
    "Obtiene todas las frutas o todas las verduras"
   ]
  },
  {
   "cell_type": "code",
   "execution_count": null,
   "id": "77fb37f7",
   "metadata": {},
   "outputs": [],
   "source": [
    "print(inventario[])"
   ]
  },
  {
   "cell_type": "code",
   "execution_count": null,
   "id": "3f77230b",
   "metadata": {},
   "outputs": [],
   "source": [
    "print(inventario[][])"
   ]
  },
  {
   "cell_type": "markdown",
   "id": "a0d82ca8",
   "metadata": {},
   "source": [
    "## Condicionales 🔀\n",
    " Uso de condiciones en Python."
   ]
  },
  {
   "cell_type": "code",
   "execution_count": null,
   "id": "2ad57446",
   "metadata": {},
   "outputs": [],
   "source": [
    "x = \n",
    "if x > 0:\n",
    "    print('x es positivo')"
   ]
  },
  {
   "cell_type": "markdown",
   "id": "0a49d07f",
   "metadata": {},
   "source": [
    "Utiliza ahora el condicional else"
   ]
  },
  {
   "cell_type": "code",
   "execution_count": null,
   "id": "9259ac84",
   "metadata": {},
   "outputs": [],
   "source": [
    "x = \n",
    "if x > 0:\n",
    "    print('x es positivo')\n",
    "else:\n",
    "    print('x es negativo')"
   ]
  },
  {
   "cell_type": "markdown",
   "id": "92564ba3",
   "metadata": {},
   "source": [
    "Utiliza ahora el condicional elif"
   ]
  },
  {
   "cell_type": "code",
   "execution_count": null,
   "id": "41552bbf",
   "metadata": {},
   "outputs": [],
   "source": [
    "x = \n",
    "if x == 0:\n",
    "    print('x es 0')\n",
    "elif x > 0:\n",
    "    print(f'{x} es postivo')\n",
    "else:\n",
    "    print(f'{x} es negativo')"
   ]
  },
  {
   "cell_type": "markdown",
   "id": "d859ea1a",
   "metadata": {},
   "source": [
    "## Bucles/Loops 🔁\n",
    " Introducción a bucles en Python."
   ]
  },
  {
   "cell_type": "code",
   "execution_count": null,
   "id": "2061baba",
   "metadata": {},
   "outputs": [],
   "source": [
    "vuelta = 0\n",
    "while vuelta < 7:\n",
    "    print(vuelta)\n",
    "    vuelta += 1"
   ]
  },
  {
   "cell_type": "markdown",
   "id": "782a8998",
   "metadata": {},
   "source": [
    "Utiliza break para romper el loop"
   ]
  },
  {
   "cell_type": "code",
   "execution_count": null,
   "id": "5667729e",
   "metadata": {},
   "outputs": [],
   "source": [
    "vuelta = 0\n",
    "while vuelta < 7:\n",
    "    print(vuelta)\n",
    "    vuelta += 1\n",
    "    if vuelta == 3:\n",
    "        break"
   ]
  },
  {
   "cell_type": "markdown",
   "id": "f031a5c8",
   "metadata": {},
   "source": [
    "Ciclo for"
   ]
  },
  {
   "cell_type": "code",
   "execution_count": null,
   "id": "0f760b6f",
   "metadata": {},
   "outputs": [],
   "source": [
    "listaFrutas = ['manzana','naranja','platano']\n",
    "for "
   ]
  },
  {
   "cell_type": "markdown",
   "id": "cfbe3f6f",
   "metadata": {},
   "source": [
    "## Funciones 🛠️\n",
    " Definiendo funciones en Python."
   ]
  },
  {
   "cell_type": "code",
   "execution_count": null,
   "id": "f29a56c5",
   "metadata": {},
   "outputs": [],
   "source": [
    "def sumar():\n",
    "    x = \n",
    "    y = \n",
    "    z = \n",
    "    print()"
   ]
  },
  {
   "cell_type": "markdown",
   "id": "5c4192e5",
   "metadata": {},
   "source": [
    "Prueba la funcion anterior"
   ]
  },
  {
   "cell_type": "code",
   "execution_count": null,
   "id": "58b54b73",
   "metadata": {},
   "outputs": [],
   "source": [
    "sumar()"
   ]
  },
  {
   "cell_type": "markdown",
   "id": "b497090e",
   "metadata": {},
   "source": [
    "Define una función con argumentos"
   ]
  },
  {
   "cell_type": "code",
   "execution_count": null,
   "id": "de1ec0a7",
   "metadata": {},
   "outputs": [],
   "source": [
    "def cuadrado():\n",
    "    y = \n",
    "    return y"
   ]
  },
  {
   "cell_type": "markdown",
   "id": "bdc3302c",
   "metadata": {},
   "source": [
    "Prueba tu función con argumento"
   ]
  },
  {
   "cell_type": "code",
   "execution_count": null,
   "id": "7df546a2",
   "metadata": {},
   "outputs": [],
   "source": [
    "cuadrado()"
   ]
  },
  {
   "cell_type": "markdown",
   "id": "933596e6",
   "metadata": {},
   "source": [
    "Define una función con mas argumentos:"
   ]
  },
  {
   "cell_type": "code",
   "execution_count": null,
   "id": "34728188",
   "metadata": {},
   "outputs": [],
   "source": [
    "def edad(añoActual,añoNacimiento):\n",
    "    edad = añoActual - añoNacimiento\n",
    "    return edad"
   ]
  },
  {
   "cell_type": "markdown",
   "id": "3e6d5dc7",
   "metadata": {},
   "source": [
    "Prueba tu función anterior"
   ]
  },
  {
   "cell_type": "code",
   "execution_count": null,
   "id": "a29186ab",
   "metadata": {},
   "outputs": [],
   "source": [
    "print('Tienes',edad(2023,1990),'años')"
   ]
  },
  {
   "cell_type": "markdown",
   "id": "b3b7d384",
   "metadata": {},
   "source": [
    "## Módulos 📦\n",
    " Importación de módulos en Python. Documentación del módulo (https://docs.python.org/es/3/library/math.html)"
   ]
  },
  {
   "cell_type": "code",
   "execution_count": null,
   "id": "508565e6",
   "metadata": {},
   "outputs": [],
   "source": [
    "import math"
   ]
  },
  {
   "cell_type": "markdown",
   "id": "dbc6b467",
   "metadata": {},
   "source": [
    "Prueba algunas funciones del módulo"
   ]
  },
  {
   "cell_type": "code",
   "execution_count": null,
   "id": "0ef75f12",
   "metadata": {},
   "outputs": [],
   "source": [
    "print(math.sqrt(25))\n",
    "print(math.pow(2,3))"
   ]
  },
  {
   "cell_type": "markdown",
   "id": "c0641613",
   "metadata": {},
   "source": [
    "Importa lo necesario que necesites de la librería"
   ]
  },
  {
   "cell_type": "code",
   "execution_count": null,
   "id": "a0d6577d",
   "metadata": {},
   "outputs": [],
   "source": [
    "from math import pi"
   ]
  },
  {
   "cell_type": "markdown",
   "id": "28d773c4",
   "metadata": {},
   "source": [
    "Utiliza lo importado"
   ]
  },
  {
   "cell_type": "code",
   "execution_count": null,
   "id": "5aeb7cf5",
   "metadata": {},
   "outputs": [],
   "source": [
    "print(pi)"
   ]
  },
  {
   "cell_type": "markdown",
   "id": "75408190",
   "metadata": {},
   "source": [
    "## Finalizaste la 1era Parte! 🎉\n",
    "Antes del Coffee Break ☕ revisa este link\n",
    "\n",
    "https://auth0.openai.com/u/login/identifier?state=hKFo2SAzQU1SWUtNN2NsaGZ3VzM0WkI2cFNEWkxtdkZ6SjU5Y6Fur3VuaXZlcnNhbC1sb2dpbqN0aWTZIHp2Qm1TRkJpWXlCYU5GdXFHN3NmdVhpc082bi1QUHBmo2NpZNkgRFJpdnNubTJNdTQyVDNLT3BxZHR3QjNOWXZpSFl6d0Q\n",
    "\n",
    "o desde https://openai.com haz login"
   ]
  }
 ],
 "metadata": {
  "kernelspec": {
   "display_name": "Python 3",
   "language": "python",
   "name": "python3"
  },
  "language_info": {
   "codemirror_mode": {
    "name": "ipython",
    "version": 3
   },
   "file_extension": ".py",
   "mimetype": "text/x-python",
   "name": "python",
   "nbconvert_exporter": "python",
   "pygments_lexer": "ipython3",
   "version": "3.11.4"
  }
 },
 "nbformat": 4,
 "nbformat_minor": 5
}
