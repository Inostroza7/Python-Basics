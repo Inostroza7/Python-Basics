{
 "cells": [
  {
   "cell_type": "markdown",
   "metadata": {},
   "source": [
    "# Python-Basics"
   ]
  },
  {
   "cell_type": "markdown",
   "metadata": {},
   "source": [
    "### 01 - Hola Mundo"
   ]
  },
  {
   "cell_type": "code",
   "execution_count": 1,
   "metadata": {},
   "outputs": [
    {
     "name": "stdout",
     "output_type": "stream",
     "text": [
      "Hola Python\n",
      "Hola Python\n",
      "<class 'str'>\n",
      "<class 'int'>\n",
      "<class 'float'>\n",
      "<class 'complex'>\n",
      "<class 'bool'>\n",
      "Mi cadena de texto\n",
      "<class 'NoneType'>\n"
     ]
    }
   ],
   "source": [
    "# Nuestro hola mundo en Python\n",
    "print(\"Hola Python\")\n",
    "print('Hola Python')\n",
    "\n",
    "# Esto es un comentario\n",
    "\n",
    "\"\"\"\n",
    "Este es un\n",
    "comentario\n",
    "en varias líneas\n",
    "\"\"\"\n",
    "\n",
    "'''\n",
    "Este también es un\n",
    "comentario\n",
    "en varias líneas\n",
    "'''\n",
    "\n",
    "# Cómo consultar el tipo de dato\n",
    "print(type(\"Soy un dato str\"))  # Tipo 'str'\n",
    "print(type(5))  # Tipo 'int'\n",
    "print(type(1.5))  # Tipo 'float'\n",
    "print(type(3 + 1j))  # Tipo 'complex'\n",
    "print(type(True))  # Tipo 'bool'\n",
    "print(type(print(\"Mi cadena de texto\")))  # Tipo 'NoneType'"
   ]
  },
  {
   "cell_type": "markdown",
   "metadata": {},
   "source": [
    "### 02 - Variables"
   ]
  },
  {
   "cell_type": "code",
   "execution_count": 2,
   "metadata": {},
   "outputs": [
    {
     "name": "stdout",
     "output_type": "stream",
     "text": [
      "My String variable\n",
      "5\n",
      "5\n",
      "<class 'str'>\n",
      "False\n",
      "My String variable 5 False\n",
      "Este es el valor de: False\n",
      "18\n",
      "Me llamo: Brais Moure . Mi edad es: 35 . Y mi alias es: MoureDev\n",
      "Gustavo\n",
      "15\n",
      "35\n",
      "Brais\n",
      "<class 'float'>\n"
     ]
    }
   ],
   "source": [
    "### Variables ###\n",
    "\n",
    "my_string_variable = \"My String variable\"\n",
    "print(my_string_variable)\n",
    "\n",
    "my_int_variable = 5\n",
    "print(my_int_variable)\n",
    "\n",
    "my_int_to_str_variable = str(my_int_variable)\n",
    "print(my_int_to_str_variable)\n",
    "print(type(my_int_to_str_variable))\n",
    "\n",
    "my_bool_variable = False\n",
    "print(my_bool_variable)\n",
    "\n",
    "# Concatenación de variables en un print\n",
    "print(my_string_variable, my_int_to_str_variable, my_bool_variable)\n",
    "print(\"Este es el valor de:\", my_bool_variable)\n",
    "\n",
    "# Algunas funciones del sistema\n",
    "print(len(my_string_variable))\n",
    "\n",
    "# Variables en una sola línea. ¡Cuidado con abusar de esta sintaxis!\n",
    "name, surname, alias, age = \"Brais\", \"Moure\", 'MoureDev', 35\n",
    "print(\"Me llamo:\", name, surname, \". Mi edad es:\",\n",
    "      age, \". Y mi alias es:\", alias)\n",
    "\n",
    "# Inputs\n",
    "name = input('¿Cuál es tu nombre? ')\n",
    "age = input('¿Cuántos años tienes? ')\n",
    "print(name)\n",
    "print(age)\n",
    "\n",
    "# Cambiamos su tipo\n",
    "name = 35\n",
    "age = \"Brais\"\n",
    "print(name)\n",
    "print(age)\n",
    "\n",
    "# ¿Forzamos el tipo?\n",
    "address: str = \"Mi dirección\"\n",
    "address = True\n",
    "address = 5\n",
    "address = 1.2\n",
    "print(type(address))"
   ]
  }
 ],
 "metadata": {
  "kernelspec": {
   "display_name": "Python 3",
   "language": "python",
   "name": "python3"
  },
  "language_info": {
   "codemirror_mode": {
    "name": "ipython",
    "version": 3
   },
   "file_extension": ".py",
   "mimetype": "text/x-python",
   "name": "python",
   "nbconvert_exporter": "python",
   "pygments_lexer": "ipython3",
   "version": "3.11.4"
  },
  "orig_nbformat": 4
 },
 "nbformat": 4,
 "nbformat_minor": 2
}
